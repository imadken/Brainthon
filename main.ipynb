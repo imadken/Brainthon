{
 "cells": [
  {
   "cell_type": "code",
   "execution_count": 1,
   "metadata": {},
   "outputs": [
    {
     "name": "stderr",
     "output_type": "stream",
     "text": [
      "2023-09-23 00:36:19.368127: I tensorflow/tsl/cuda/cudart_stub.cc:28] Could not find cuda drivers on your machine, GPU will not be used.\n",
      "2023-09-23 00:36:19.467455: I tensorflow/tsl/cuda/cudart_stub.cc:28] Could not find cuda drivers on your machine, GPU will not be used.\n",
      "2023-09-23 00:36:19.469800: I tensorflow/core/platform/cpu_feature_guard.cc:182] This TensorFlow binary is optimized to use available CPU instructions in performance-critical operations.\n",
      "To enable the following instructions: AVX2 FMA, in other operations, rebuild TensorFlow with the appropriate compiler flags.\n",
      "2023-09-23 00:36:21.212650: W tensorflow/compiler/tf2tensorrt/utils/py_utils.cc:38] TF-TRT Warning: Could not find TensorRT\n"
     ]
    }
   ],
   "source": [
    "from run import model_preds "
   ]
  },
  {
   "cell_type": "code",
   "execution_count": 2,
   "metadata": {},
   "outputs": [
    {
     "name": "stdout",
     "output_type": "stream",
     "text": [
      "1/1 [==============================] - 1s 1s/step\n"
     ]
    },
    {
     "data": {
      "text/html": [
       "<div>\n",
       "<style scoped>\n",
       "    .dataframe tbody tr th:only-of-type {\n",
       "        vertical-align: middle;\n",
       "    }\n",
       "\n",
       "    .dataframe tbody tr th {\n",
       "        vertical-align: top;\n",
       "    }\n",
       "\n",
       "    .dataframe thead th {\n",
       "        text-align: right;\n",
       "    }\n",
       "</style>\n",
       "<table border=\"1\" class=\"dataframe\">\n",
       "  <thead>\n",
       "    <tr style=\"text-align: right;\">\n",
       "      <th></th>\n",
       "      <th>Predicted_Product_Id</th>\n",
       "      <th>Predicted_Product_Name</th>\n",
       "      <th>Predicted_Product_Image</th>\n",
       "    </tr>\n",
       "  </thead>\n",
       "  <tbody>\n",
       "    <tr>\n",
       "      <th>0</th>\n",
       "      <td>6</td>\n",
       "      <td>hazelnut – family</td>\n",
       "      <td>https://palmaryfood.com/wp-content/uploads/202...</td>\n",
       "    </tr>\n",
       "    <tr>\n",
       "      <th>1</th>\n",
       "      <td>8</td>\n",
       "      <td>break</td>\n",
       "      <td>https://palmaryfood.com/wp-content/uploads/202...</td>\n",
       "    </tr>\n",
       "    <tr>\n",
       "      <th>2</th>\n",
       "      <td>10</td>\n",
       "      <td>raspberry – large format</td>\n",
       "      <td>https://palmaryfood.com/wp-content/uploads/202...</td>\n",
       "    </tr>\n",
       "    <tr>\n",
       "      <th>3</th>\n",
       "      <td>13</td>\n",
       "      <td>dondy – caramel</td>\n",
       "      <td>https://palmaryfood.com/wp-content/uploads/202...</td>\n",
       "    </tr>\n",
       "    <tr>\n",
       "      <th>4</th>\n",
       "      <td>14</td>\n",
       "      <td>dondy – raspberry</td>\n",
       "      <td>https://palmaryfood.com/wp-content/uploads/202...</td>\n",
       "    </tr>\n",
       "    <tr>\n",
       "      <th>5</th>\n",
       "      <td>15</td>\n",
       "      <td>dondy – strawberry</td>\n",
       "      <td>https://palmaryfood.com/wp-content/uploads/202...</td>\n",
       "    </tr>\n",
       "    <tr>\n",
       "      <th>6</th>\n",
       "      <td>20</td>\n",
       "      <td>kremali</td>\n",
       "      <td>https://palmaryfood.com/wp-content/uploads/202...</td>\n",
       "    </tr>\n",
       "    <tr>\n",
       "      <th>7</th>\n",
       "      <td>21</td>\n",
       "      <td>kremali – choco</td>\n",
       "      <td>https://palmaryfood.com/wp-content/uploads/202...</td>\n",
       "    </tr>\n",
       "  </tbody>\n",
       "</table>\n",
       "</div>"
      ],
      "text/plain": [
       "   Predicted_Product_Id    Predicted_Product_Name  \\\n",
       "0                     6         hazelnut – family   \n",
       "1                     8                     break   \n",
       "2                    10  raspberry – large format   \n",
       "3                    13           dondy – caramel   \n",
       "4                    14         dondy – raspberry   \n",
       "5                    15        dondy – strawberry   \n",
       "6                    20                   kremali   \n",
       "7                    21           kremali – choco   \n",
       "\n",
       "                             Predicted_Product_Image  \n",
       "0  https://palmaryfood.com/wp-content/uploads/202...  \n",
       "1  https://palmaryfood.com/wp-content/uploads/202...  \n",
       "2  https://palmaryfood.com/wp-content/uploads/202...  \n",
       "3  https://palmaryfood.com/wp-content/uploads/202...  \n",
       "4  https://palmaryfood.com/wp-content/uploads/202...  \n",
       "5  https://palmaryfood.com/wp-content/uploads/202...  \n",
       "6  https://palmaryfood.com/wp-content/uploads/202...  \n",
       "7  https://palmaryfood.com/wp-content/uploads/202...  "
      ]
     },
     "execution_count": 2,
     "metadata": {},
     "output_type": "execute_result"
    }
   ],
   "source": [
    "model_preds(5,7,9)"
   ]
  }
 ],
 "metadata": {
  "kernelspec": {
   "display_name": "Python 3",
   "language": "python",
   "name": "python3"
  },
  "language_info": {
   "codemirror_mode": {
    "name": "ipython",
    "version": 3
   },
   "file_extension": ".py",
   "mimetype": "text/x-python",
   "name": "python",
   "nbconvert_exporter": "python",
   "pygments_lexer": "ipython3",
   "version": "3.10.6"
  },
  "orig_nbformat": 4
 },
 "nbformat": 4,
 "nbformat_minor": 2
}
